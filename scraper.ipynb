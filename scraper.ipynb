{
 "cells": [
  {
   "cell_type": "code",
   "execution_count": null,
   "metadata": {},
   "outputs": [],
   "source": [
    "from bs4 import BeautifulSoup\n",
    "\n",
    "# import selenium\n",
    "from selenium import webdriver\n",
    "from selenium.webdriver.chrome.options import Options\n",
    "from selenium.webdriver.common.by import By\n",
    "from selenium.webdriver.common.keys import Keys\n",
    "\n",
    "import time\n",
    "\n",
    "import requests\n"
   ]
  },
  {
   "cell_type": "code",
   "execution_count": null,
   "metadata": {},
   "outputs": [],
   "source": [
    "options = Options()\n",
    "options.headless = False\n",
    "options.add_argument(\"userAgent=Mozilla/5.0 (Windows NT 10.0; Win64; x64) AppleWebKit/537.36 (KHTML, like Gecko) Chrome/104.0.5112.126\")\n",
    "options.add_argument(\"--window-size=1920,1080\")\n",
    "options.add_argument(\"--headless=chrome\")\n",
    "browser = webdriver.Chrome(options=options, executable_path=\"./chromedriver/chromedriver.exe\")"
   ]
  },
  {
   "cell_type": "code",
   "execution_count": null,
   "metadata": {},
   "outputs": [],
   "source": [
    "url = 'https://www.instagram.com/datavault/'\n",
    "browser.get(url)\n",
    "time.sleep(5)"
   ]
  },
  {
   "cell_type": "code",
   "execution_count": null,
   "metadata": {},
   "outputs": [],
   "source": [
    "result_page = browser.page_source\n",
    "soup = BeautifulSoup(result_page, 'html.parser')\n",
    "r = requests.get(url)\n",
    "\n",
    "\n",
    "souphtml2 = BeautifulSoup(r.text, 'html.parser')"
   ]
  },
  {
   "cell_type": "code",
   "execution_count": null,
   "metadata": {},
   "outputs": [],
   "source": [
    "filtered = souphtml2.find_all('meta')\n",
    "for f in filtered:\n",
    "    if(f.get('name') == 'description'):\n",
    "        print('Abbonnenten: ' + f.get('content').split(' ')[0].replace(',', '').replace('.', ''))\n",
    "        print('Abboniert: ' + f.get('content').split(' ')[2].replace(',', '').replace('.', ''))"
   ]
  },
  {
   "cell_type": "code",
   "execution_count": null,
   "metadata": {},
   "outputs": [],
   "source": [
    "filtered_h2 = soup.find_all('h2')"
   ]
  },
  {
   "cell_type": "code",
   "execution_count": null,
   "metadata": {},
   "outputs": [],
   "source": [
    "is_account_private = False\n",
    "\n",
    "for f in filtered_h2:\n",
    "    if(f.text == 'This Account is Private'):\n",
    "        is_account_private = True\n",
    "\n",
    "\n",
    "\n",
    "print('Account is private: ' + str(is_account_private))"
   ]
  }
 ],
 "metadata": {
  "kernelspec": {
   "display_name": "scraper",
   "language": "python",
   "name": "python3"
  },
  "language_info": {
   "codemirror_mode": {
    "name": "ipython",
    "version": 3
   },
   "file_extension": ".py",
   "mimetype": "text/x-python",
   "name": "python",
   "nbconvert_exporter": "python",
   "pygments_lexer": "ipython3",
   "version": "3.7.9"
  },
  "orig_nbformat": 4,
  "vscode": {
   "interpreter": {
    "hash": "76b8aa1efa5e26c3de817f762ddd33c58e7858153c42d5bfb4676d5610e15e1e"
   }
  }
 },
 "nbformat": 4,
 "nbformat_minor": 2
}
